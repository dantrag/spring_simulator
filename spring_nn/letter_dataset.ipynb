{
 "cells": [
  {
   "cell_type": "code",
   "execution_count": 2,
   "id": "musical-phrase",
   "metadata": {},
   "outputs": [],
   "source": [
    "import PIL\n",
    "from PIL import Image\n",
    "import numpy as np\n",
    "\n",
    "data = Image.open('trainingData/1/2.png')\n",
    "array = np.array(data)\n",
    "#array = np.zeros((3,3))"
   ]
  },
  {
   "cell_type": "code",
   "execution_count": 21,
   "id": "fleet-mixture",
   "metadata": {},
   "outputs": [
    {
     "data": {
      "text/plain": [
       "[]"
      ]
     },
     "execution_count": 21,
     "metadata": {},
     "output_type": "execute_result"
    }
   ],
   "source": [
    "def array_to_file(array, filename):\n",
    "    file_out = \"\"\n",
    "    rows = []\n",
    "    with open(filename, 'w+') as f:\n",
    "        for row in array:\n",
    "            row_str = \",\".join([str(x) for x in row])\n",
    "            f.write(row_str + '\\n')\n",
    "        return rows\n",
    "        \n",
    "array_to_file(array, 'test.txt')"
   ]
  },
  {
   "cell_type": "code",
   "execution_count": 105,
   "id": "gentle-commons",
   "metadata": {},
   "outputs": [],
   "source": [
    "import numpy as np\n",
    "import matplotlib.pyplot as plt\n",
    "%matplotlib inline\n",
    "\n",
    "def box_coords(width, x_scale, y_scale, margin_x_scale, margin_y_scale):\n",
    "    margin_x = int(margin_x_scale * width)\n",
    "    margin_y = int(margin_y_scale * width)\n",
    "    #Square 1\n",
    "    X, Y = np.meshgrid(range(margin_x, int(width * x_scale) + margin_x), range(margin_y, np.int_(width * y_scale) + margin_y))\n",
    "    coords = np.concatenate((X[:,:,None], Y[:, :, None]), -1).reshape(-1, 2)\n",
    "    return coords\n",
    "\n",
    "def coords_to_img(coords, arr):\n",
    "    for c in coords:\n",
    "        arr[c[0], c[1]] = 0.0\n",
    "\n",
    "\n",
    "def make_image(width, \n",
    "               x_scale, \n",
    "               y_scale, \n",
    "               margin_x_scale, \n",
    "               margin_y_scale):\n",
    "    \n",
    "    assert x_scale[0] + margin_x_scale[0] <= 1\n",
    "    assert x_scale[1] + margin_x_scale[1] <= 1\n",
    "    assert y_scale[0] + margin_y_scale[0] <= 1\n",
    "    assert y_scale[1] + margin_y_scale[1] <= 1\n",
    "    \n",
    "    width = 128\n",
    "    arr = np.ones((width, width)) * 255\n",
    "\n",
    "    #coords1 = box_coords(width, 0.2, 0.7, 0.1, 0.2)\n",
    "    #coords2 = box_coords(width, 0.7, 0.4, 0.1, 0.2)\n",
    "    \n",
    "    coords1 = box_coords(width, x_scale[0], y_scale[0], margin_x_scale[0], margin_y_scale[0])\n",
    "    coords2 = box_coords(width, x_scale[1], y_scale[1], margin_x_scale[1], margin_y_scale[1])\n",
    "    #coords2 = box_coords(width, 0.7, 0.4, 0.1, 0.2)\n",
    "    coords_to_img(coords1, arr)\n",
    "    coords_to_img(coords2, arr)\n",
    "\n",
    "    plt.figure()\n",
    "    plt.imshow(arr, cmap='gray', origin='lower')\n",
    "    #return arr"
   ]
  },
  {
   "cell_type": "code",
   "execution_count": 267,
   "id": "revised-cornwall",
   "metadata": {},
   "outputs": [
    {
     "data": {
      "image/png": "[encoded data removed]",
      "text/plain": [
       "<Figure size 432x288 with 1 Axes>"
      ]
     },
     "metadata": {
      "needs_background": "light"
     },
     "output_type": "display_data"
    }
   ],
   "source": [
    "\n",
    "x_scale1 = 0.2 + np.random.uniform() * 0.7\n",
    "#x_scale2 = 0.2 + np.random.uniform() * 0.7\n",
    "\n",
    "x_scale2 = np.random.uniform(x_scale1 * 0.2, x_scale1*0.8)\n",
    "\n",
    "y_scale2 = 0.2 + np.random.uniform() * 0.7\n",
    "#y_scale2 = 0.2 + np.random.uniform() * 0.7\n",
    "\n",
    "y_scale1 = np.random.uniform(y_scale2*0.2, y_scale2*0.8)\n",
    "\n",
    "margin_x_scale1 = np.random.uniform(0, 0.9 - x_scale1)\n",
    "# Ensure one is smaller than the other\n",
    "margin_x_scale2_a = np.random.uniform(0, margin_x_scale1)\n",
    "margin_x_scale2_b = np.random.uniform(0, 0.9 - x_scale2)\n",
    "#margin_x_scale2 = min(margin_x_scale2_a, margin_x_scale2_b)\n",
    "margin_x_scale2 = margin_x_scale2_b\n",
    "\n",
    "margin_y_scale1 = np.random.uniform(0, 0.9 - y_scale1)\n",
    "\n",
    "margin_y_scale2_a = np.random.uniform(0, margin_y_scale1)\n",
    "margin_y_scale2_b = np.random.uniform(0, 0.9 - y_scale2)\n",
    "#margin_y_scale2 = min(margin_y_scale2_a, margin_y_scale2_b)\n",
    "margin_y_scale2 = margin_y_scale2_b\n",
    "\n",
    "x_scale = [x_scale1, x_scale2]\n",
    "y_scale = [y_scale1, y_scale2]\n",
    "margin_x_scale = [margin_x_scale1, margin_x_scale2]\n",
    "margin_y_scale = [margin_y_scale1, margin_y_scale2]\n",
    "\n",
    "make_image(128, x_scale=x_scale, y_scale=y_scale, margin_x_scale=margin_x_scale, margin_y_scale=margin_y_scale)\n",
    "#make_image(128, x_scale=[0.2, 0.6], y_scale=[0.7, 0.4], margin_x_scale=[0.5, 0.2], margin_y_scale=[0.2, 0.3])"
   ]
  },
  {
   "cell_type": "code",
   "execution_count": 261,
   "id": "photographic-routine",
   "metadata": {},
   "outputs": [
    {
     "data": {
      "text/plain": [
       "[0.26991577953504764, 0.34421761451105726]"
      ]
     },
     "execution_count": 261,
     "metadata": {},
     "output_type": "execute_result"
    }
   ],
   "source": [
    "y_scale"
   ]
  },
  {
   "cell_type": "code",
   "execution_count": 262,
   "id": "based-contractor",
   "metadata": {},
   "outputs": [
    {
     "data": {
      "text/plain": [
       "[0.5163285708851657, 0.7112017773495336]"
      ]
     },
     "execution_count": 262,
     "metadata": {},
     "output_type": "execute_result"
    }
   ],
   "source": [
    "margin_y_scale"
   ]
  },
  {
   "cell_type": "code",
   "execution_count": 150,
   "id": "conscious-showcase",
   "metadata": {},
   "outputs": [
    {
     "data": {
      "text/plain": [
       "1.007206908431956"
      ]
     },
     "execution_count": 150,
     "metadata": {},
     "output_type": "execute_result"
    }
   ],
   "source": [
    "x_scale2 + margin_x_scale2"
   ]
  },
  {
   "cell_type": "code",
   "execution_count": 51,
   "id": "graphic-absorption",
   "metadata": {},
   "outputs": [
    {
     "data": {
      "text/plain": [
       "<matplotlib.image.AxesImage at 0x7f291ebacbb0>"
      ]
     },
     "execution_count": 51,
     "metadata": {},
     "output_type": "execute_result"
    },
    {
     "data": {
      "image/png": "[encoded data removed]",
      "text/plain": [
       "<Figure size 432x288 with 1 Axes>"
      ]
     },
     "metadata": {
      "needs_background": "light"
     },
     "output_type": "display_data"
    }
   ],
   "source": [
    "width = 128\n",
    "arr = np.ones((width, width)) * 255\n",
    "    \n",
    "coords1 = box_coords(width, 0.2, 0.7, 0.3, 0.2)\n",
    "coords2 = box_coords(width, 0.7, 0.4, 0.1, 0.3)\n",
    "\n",
    "coords_to_img(coords1, arr)\n",
    "coords_to_img(coords2, arr)\n",
    "\n",
    "plt.imshow(arr, cmap='gray')"
   ]
  },
  {
   "cell_type": "code",
   "execution_count": null,
   "id": "sexual-athletics",
   "metadata": {},
   "outputs": [],
   "source": []
  },
  {
   "cell_type": "code",
   "execution_count": null,
   "id": "metric-circular",
   "metadata": {},
   "outputs": [],
   "source": []
  }
 ],
 "metadata": {
  "kernelspec": {
   "display_name": "Python [conda env:spring] *",
   "language": "python",
   "name": "conda-env-spring-py"
  },
  "language_info": {
   "codemirror_mode": {
    "name": "ipython",
    "version": 3
   },
   "file_extension": ".py",
   "mimetype": "text/x-python",
   "name": "python",
   "nbconvert_exporter": "python",
   "pygments_lexer": "ipython3",
   "version": "3.8.8"
  }
 },
 "nbformat": 4,
 "nbformat_minor": 5
}
